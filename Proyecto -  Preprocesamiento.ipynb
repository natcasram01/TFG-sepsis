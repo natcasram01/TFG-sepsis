{
 "cells": [
  {
   "cell_type": "markdown",
   "id": "8dc14bb3",
   "metadata": {},
   "source": [
    "# Preprocesamiento del dataset\n",
    "**Autor:** Natalia Castellano Ramos    &nbsp;&nbsp;&nbsp;"
   ]
  },
  {
   "cell_type": "markdown",
   "id": "ef7bae14",
   "metadata": {},
   "source": [
    "------------------------------------------------------\n",
    "## Contenido\n",
    "\n",
    "1. <a href=\"#imports\"> Importación del dataset y de las librerías </a> <br>\n",
    "2. <a href=\"#preprocesamiento\"> Preprocesamiento del dataset </a> <br>\n",
    "    2.1 <a href=\"#2.1\"> Eliminación de filas y columnas </a> <br>\n",
    "    2.2 <a href=\"#2.2\"> Conversión del tipo de algunas variables </a> <br>\n",
    "    2.3 <a href=\"#2.3\"> Variables binarias </a> <br>\n",
    "    2.4 <a href=\"#2.4\"> Variable target: 'Vassopressors' (shock séptico)  </a> <br>\n",
    "    2.5 <a href=\"#2.5\"> Variable target: 'Outcome' (Supervivencia) </a> <br>\n",
    "3. <a href=\"#export\"> Exportación del dataset preprocesado </a> <br>\n",
    "------------------------------------------------------"
   ]
  },
  {
   "cell_type": "markdown",
   "id": "49124293",
   "metadata": {},
   "source": [
    "## 1. Importación del dataset y de las librerías<a name=\"imports\"> </a>"
   ]
  },
  {
   "cell_type": "code",
   "execution_count": 4,
   "id": "63305256",
   "metadata": {},
   "outputs": [
    {
     "name": "stdout",
     "output_type": "stream",
     "text": [
      "Requirement already satisfied: pandas in c:\\users\\natal\\anaconda3\\envs\\myenv\\lib\\site-packages (2.2.3)\n",
      "Requirement already satisfied: numpy>=1.26.0 in c:\\users\\natal\\anaconda3\\envs\\myenv\\lib\\site-packages (from pandas) (2.2.1)\n",
      "Requirement already satisfied: python-dateutil>=2.8.2 in c:\\users\\natal\\anaconda3\\envs\\myenv\\lib\\site-packages (from pandas) (2.9.0.post0)\n",
      "Requirement already satisfied: pytz>=2020.1 in c:\\users\\natal\\anaconda3\\envs\\myenv\\lib\\site-packages (from pandas) (2024.2)\n",
      "Requirement already satisfied: tzdata>=2022.7 in c:\\users\\natal\\anaconda3\\envs\\myenv\\lib\\site-packages (from pandas) (2024.2)\n",
      "Requirement already satisfied: six>=1.5 in c:\\users\\natal\\anaconda3\\envs\\myenv\\lib\\site-packages (from python-dateutil>=2.8.2->pandas) (1.17.0)\n",
      "Note: you may need to restart the kernel to use updated packages.\n"
     ]
    }
   ],
   "source": [
    "%pip install pandas"
   ]
  },
  {
   "cell_type": "code",
   "execution_count": 4,
   "id": "39fb47c0",
   "metadata": {},
   "outputs": [],
   "source": [
    "import pandas as pd\n",
    "from sklearn.preprocessing import LabelEncoder\n",
    "import numpy as np"
   ]
  },
  {
   "cell_type": "code",
   "execution_count": 5,
   "id": "5cdfb589",
   "metadata": {},
   "outputs": [
    {
     "data": {
      "text/html": [
       "<div>\n",
       "<style scoped>\n",
       "    .dataframe tbody tr th:only-of-type {\n",
       "        vertical-align: middle;\n",
       "    }\n",
       "\n",
       "    .dataframe tbody tr th {\n",
       "        vertical-align: top;\n",
       "    }\n",
       "\n",
       "    .dataframe thead th {\n",
       "        text-align: right;\n",
       "    }\n",
       "</style>\n",
       "<table border=\"1\" class=\"dataframe\">\n",
       "  <thead>\n",
       "    <tr style=\"text-align: right;\">\n",
       "      <th></th>\n",
       "      <th>ID</th>\n",
       "      <th>Age</th>\n",
       "      <th>Sex</th>\n",
       "      <th>Initial PCT value</th>\n",
       "      <th>DM</th>\n",
       "      <th>HTN</th>\n",
       "      <th>COPD</th>\n",
       "      <th>CAD</th>\n",
       "      <th>CHF</th>\n",
       "      <th>CKD w/o dialysis</th>\n",
       "      <th>...</th>\n",
       "      <th>Vasopressors</th>\n",
       "      <th>Creatinine</th>\n",
       "      <th>UOP</th>\n",
       "      <th>SOFA score</th>\n",
       "      <th>Outcome</th>\n",
       "      <th>LOS</th>\n",
       "      <th>Mechanical vent</th>\n",
       "      <th>Anatomical site of infection</th>\n",
       "      <th>Extent of infection</th>\n",
       "      <th>Microorganism</th>\n",
       "    </tr>\n",
       "  </thead>\n",
       "  <tbody>\n",
       "    <tr>\n",
       "      <th>0</th>\n",
       "      <td>1</td>\n",
       "      <td>66.0</td>\n",
       "      <td>1.0</td>\n",
       "      <td>1,36</td>\n",
       "      <td>2.0</td>\n",
       "      <td>1</td>\n",
       "      <td>2.0</td>\n",
       "      <td>2.0</td>\n",
       "      <td>2.0</td>\n",
       "      <td>2.0</td>\n",
       "      <td>...</td>\n",
       "      <td>2.0</td>\n",
       "      <td>0,72</td>\n",
       "      <td>1.0</td>\n",
       "      <td>3.0</td>\n",
       "      <td>4.0</td>\n",
       "      <td>2.0</td>\n",
       "      <td>2.0</td>\n",
       "      <td>1</td>\n",
       "      <td>2</td>\n",
       "      <td>3</td>\n",
       "    </tr>\n",
       "    <tr>\n",
       "      <th>1</th>\n",
       "      <td>1</td>\n",
       "      <td>66.0</td>\n",
       "      <td>1.0</td>\n",
       "      <td>30,53</td>\n",
       "      <td>2.0</td>\n",
       "      <td>1</td>\n",
       "      <td>2.0</td>\n",
       "      <td>2.0</td>\n",
       "      <td>2.0</td>\n",
       "      <td>2.0</td>\n",
       "      <td>...</td>\n",
       "      <td>1.0</td>\n",
       "      <td>0,99</td>\n",
       "      <td>1.0</td>\n",
       "      <td>10.0</td>\n",
       "      <td>4.0</td>\n",
       "      <td>10.0</td>\n",
       "      <td>2.0</td>\n",
       "      <td>1</td>\n",
       "      <td>2</td>\n",
       "      <td>1</td>\n",
       "    </tr>\n",
       "    <tr>\n",
       "      <th>2</th>\n",
       "      <td>1</td>\n",
       "      <td>75.0</td>\n",
       "      <td>2.0</td>\n",
       "      <td>3,81</td>\n",
       "      <td>1.0</td>\n",
       "      <td>2</td>\n",
       "      <td>2.0</td>\n",
       "      <td>2.0</td>\n",
       "      <td>1.0</td>\n",
       "      <td>1.0</td>\n",
       "      <td>...</td>\n",
       "      <td>2.0</td>\n",
       "      <td>4,75</td>\n",
       "      <td>1.0</td>\n",
       "      <td>4.0</td>\n",
       "      <td>4.0</td>\n",
       "      <td>5.0</td>\n",
       "      <td>2.0</td>\n",
       "      <td>2</td>\n",
       "      <td>2</td>\n",
       "      <td>2</td>\n",
       "    </tr>\n",
       "    <tr>\n",
       "      <th>3</th>\n",
       "      <td>1</td>\n",
       "      <td>60.0</td>\n",
       "      <td>2.0</td>\n",
       "      <td>5,81</td>\n",
       "      <td>2.0</td>\n",
       "      <td>2</td>\n",
       "      <td>2.0</td>\n",
       "      <td>2.0</td>\n",
       "      <td>2.0</td>\n",
       "      <td>2.0</td>\n",
       "      <td>...</td>\n",
       "      <td>2.0</td>\n",
       "      <td>1,61</td>\n",
       "      <td>2.0</td>\n",
       "      <td>5.0</td>\n",
       "      <td>4.0</td>\n",
       "      <td>7.0</td>\n",
       "      <td>2.0</td>\n",
       "      <td>1</td>\n",
       "      <td>1</td>\n",
       "      <td>1</td>\n",
       "    </tr>\n",
       "    <tr>\n",
       "      <th>4</th>\n",
       "      <td>1</td>\n",
       "      <td>58.0</td>\n",
       "      <td>1.0</td>\n",
       "      <td>0,22</td>\n",
       "      <td>2.0</td>\n",
       "      <td>1</td>\n",
       "      <td>2.0</td>\n",
       "      <td>1.0</td>\n",
       "      <td>2.0</td>\n",
       "      <td>2.0</td>\n",
       "      <td>...</td>\n",
       "      <td>2.0</td>\n",
       "      <td>0,37</td>\n",
       "      <td>1.0</td>\n",
       "      <td>4.0</td>\n",
       "      <td>4.0</td>\n",
       "      <td>5.0</td>\n",
       "      <td>1.0</td>\n",
       "      <td>2</td>\n",
       "      <td>2</td>\n",
       "      <td>2</td>\n",
       "    </tr>\n",
       "    <tr>\n",
       "      <th>...</th>\n",
       "      <td>...</td>\n",
       "      <td>...</td>\n",
       "      <td>...</td>\n",
       "      <td>...</td>\n",
       "      <td>...</td>\n",
       "      <td>...</td>\n",
       "      <td>...</td>\n",
       "      <td>...</td>\n",
       "      <td>...</td>\n",
       "      <td>...</td>\n",
       "      <td>...</td>\n",
       "      <td>...</td>\n",
       "      <td>...</td>\n",
       "      <td>...</td>\n",
       "      <td>...</td>\n",
       "      <td>...</td>\n",
       "      <td>...</td>\n",
       "      <td>...</td>\n",
       "      <td>...</td>\n",
       "      <td>...</td>\n",
       "      <td>...</td>\n",
       "    </tr>\n",
       "    <tr>\n",
       "      <th>363</th>\n",
       "      <td>364</td>\n",
       "      <td>52.0</td>\n",
       "      <td>2.0</td>\n",
       "      <td>134,84</td>\n",
       "      <td>1.0</td>\n",
       "      <td>2</td>\n",
       "      <td>1.0</td>\n",
       "      <td>2.0</td>\n",
       "      <td>2.0</td>\n",
       "      <td>2.0</td>\n",
       "      <td>...</td>\n",
       "      <td>2.0</td>\n",
       "      <td>2,64</td>\n",
       "      <td>1.0</td>\n",
       "      <td>5.0</td>\n",
       "      <td>4.0</td>\n",
       "      <td>9.0</td>\n",
       "      <td>1.0</td>\n",
       "      <td>2,3</td>\n",
       "      <td>2</td>\n",
       "      <td>1,2</td>\n",
       "    </tr>\n",
       "    <tr>\n",
       "      <th>364</th>\n",
       "      <td>NaN</td>\n",
       "      <td>NaN</td>\n",
       "      <td>NaN</td>\n",
       "      <td>NaN</td>\n",
       "      <td>NaN</td>\n",
       "      <td>NaN</td>\n",
       "      <td>NaN</td>\n",
       "      <td>NaN</td>\n",
       "      <td>NaN</td>\n",
       "      <td>NaN</td>\n",
       "      <td>...</td>\n",
       "      <td>NaN</td>\n",
       "      <td>NaN</td>\n",
       "      <td>NaN</td>\n",
       "      <td>NaN</td>\n",
       "      <td>NaN</td>\n",
       "      <td>NaN</td>\n",
       "      <td>NaN</td>\n",
       "      <td>NaN</td>\n",
       "      <td>NaN</td>\n",
       "      <td>NaN</td>\n",
       "    </tr>\n",
       "    <tr>\n",
       "      <th>365</th>\n",
       "      <td>NaN</td>\n",
       "      <td>NaN</td>\n",
       "      <td>NaN</td>\n",
       "      <td>NaN</td>\n",
       "      <td>NaN</td>\n",
       "      <td>NaN</td>\n",
       "      <td>NaN</td>\n",
       "      <td>NaN</td>\n",
       "      <td>NaN</td>\n",
       "      <td>NaN</td>\n",
       "      <td>...</td>\n",
       "      <td>NaN</td>\n",
       "      <td>NaN</td>\n",
       "      <td>NaN</td>\n",
       "      <td>NaN</td>\n",
       "      <td>NaN</td>\n",
       "      <td>NaN</td>\n",
       "      <td>NaN</td>\n",
       "      <td>NaN</td>\n",
       "      <td>NaN</td>\n",
       "      <td>NaN</td>\n",
       "    </tr>\n",
       "    <tr>\n",
       "      <th>366</th>\n",
       "      <td>Key</td>\n",
       "      <td>1.0</td>\n",
       "      <td>NaN</td>\n",
       "      <td>yes</td>\n",
       "      <td>NaN</td>\n",
       "      <td>male</td>\n",
       "      <td>NaN</td>\n",
       "      <td>NaN</td>\n",
       "      <td>NaN</td>\n",
       "      <td>NaN</td>\n",
       "      <td>...</td>\n",
       "      <td>NaN</td>\n",
       "      <td>NaN</td>\n",
       "      <td>NaN</td>\n",
       "      <td>NaN</td>\n",
       "      <td>NaN</td>\n",
       "      <td>NaN</td>\n",
       "      <td>NaN</td>\n",
       "      <td>NaN</td>\n",
       "      <td>NaN</td>\n",
       "      <td>NaN</td>\n",
       "    </tr>\n",
       "    <tr>\n",
       "      <th>367</th>\n",
       "      <td>NaN</td>\n",
       "      <td>2.0</td>\n",
       "      <td>NaN</td>\n",
       "      <td>no</td>\n",
       "      <td>NaN</td>\n",
       "      <td>female</td>\n",
       "      <td>NaN</td>\n",
       "      <td>NaN</td>\n",
       "      <td>NaN</td>\n",
       "      <td>NaN</td>\n",
       "      <td>...</td>\n",
       "      <td>NaN</td>\n",
       "      <td>NaN</td>\n",
       "      <td>NaN</td>\n",
       "      <td>NaN</td>\n",
       "      <td>NaN</td>\n",
       "      <td>NaN</td>\n",
       "      <td>NaN</td>\n",
       "      <td>NaN</td>\n",
       "      <td>NaN</td>\n",
       "      <td>NaN</td>\n",
       "    </tr>\n",
       "  </tbody>\n",
       "</table>\n",
       "<p>368 rows × 30 columns</p>\n",
       "</div>"
      ],
      "text/plain": [
       "      ID   Age  Sex Initial PCT value   DM     HTN  COPD  CAD  CHF  \\\n",
       "0      1  66.0  1.0              1,36  2.0       1   2.0  2.0  2.0   \n",
       "1      1  66.0  1.0             30,53  2.0       1   2.0  2.0  2.0   \n",
       "2      1  75.0  2.0              3,81  1.0       2   2.0  2.0  1.0   \n",
       "3      1  60.0  2.0              5,81  2.0       2   2.0  2.0  2.0   \n",
       "4      1  58.0  1.0              0,22  2.0       1   2.0  1.0  2.0   \n",
       "..   ...   ...  ...               ...  ...     ...   ...  ...  ...   \n",
       "363  364  52.0  2.0            134,84  1.0       2   1.0  2.0  2.0   \n",
       "364  NaN   NaN  NaN               NaN  NaN     NaN   NaN  NaN  NaN   \n",
       "365  NaN   NaN  NaN               NaN  NaN     NaN   NaN  NaN  NaN   \n",
       "366  Key   1.0  NaN               yes  NaN    male   NaN  NaN  NaN   \n",
       "367  NaN   2.0  NaN                no  NaN  female   NaN  NaN  NaN   \n",
       "\n",
       "     CKD w/o dialysis   ...  Vasopressors  Creatinine  UOP  SOFA score  \\\n",
       "0                  2.0  ...           2.0        0,72  1.0         3.0   \n",
       "1                  2.0  ...           1.0        0,99  1.0        10.0   \n",
       "2                  1.0  ...           2.0        4,75  1.0         4.0   \n",
       "3                  2.0  ...           2.0        1,61  2.0         5.0   \n",
       "4                  2.0  ...           2.0        0,37  1.0         4.0   \n",
       "..                 ...  ...           ...         ...  ...         ...   \n",
       "363                2.0  ...           2.0        2,64  1.0         5.0   \n",
       "364                NaN  ...           NaN         NaN  NaN         NaN   \n",
       "365                NaN  ...           NaN         NaN  NaN         NaN   \n",
       "366                NaN  ...           NaN         NaN  NaN         NaN   \n",
       "367                NaN  ...           NaN         NaN  NaN         NaN   \n",
       "\n",
       "     Outcome   LOS  Mechanical vent Anatomical site of infection   \\\n",
       "0        4.0   2.0              2.0                             1   \n",
       "1        4.0  10.0              2.0                             1   \n",
       "2        4.0   5.0              2.0                             2   \n",
       "3        4.0   7.0              2.0                             1   \n",
       "4        4.0   5.0              1.0                             2   \n",
       "..       ...   ...              ...                           ...   \n",
       "363      4.0   9.0              1.0                           2,3   \n",
       "364      NaN   NaN              NaN                           NaN   \n",
       "365      NaN   NaN              NaN                           NaN   \n",
       "366      NaN   NaN              NaN                           NaN   \n",
       "367      NaN   NaN              NaN                           NaN   \n",
       "\n",
       "     Extent of infection  Microorganism   \n",
       "0                      2               3  \n",
       "1                      2               1  \n",
       "2                      2               2  \n",
       "3                      1               1  \n",
       "4                      2               2  \n",
       "..                   ...             ...  \n",
       "363                    2             1,2  \n",
       "364                  NaN             NaN  \n",
       "365                  NaN             NaN  \n",
       "366                  NaN             NaN  \n",
       "367                  NaN             NaN  \n",
       "\n",
       "[368 rows x 30 columns]"
      ]
     },
     "execution_count": 5,
     "metadata": {},
     "output_type": "execute_result"
    }
   ],
   "source": [
    "# Lectura del archivo CSV con separador `;`\n",
    "rawdf = pd.read_csv('./Data/rawdata.csv', delimiter=';')\n",
    "\n",
    "rawdf"
   ]
  },
  {
   "cell_type": "markdown",
   "id": "547e59de",
   "metadata": {},
   "source": [
    "## 2. Preprocesamiento del dataset <a name=\"preprocesamiento\"> </a>"
   ]
  },
  {
   "cell_type": "markdown",
   "id": "4374ce4e",
   "metadata": {},
   "source": [
    "### 2.1. Eliminación de filas y columnas <a name=\"2.1\"> </a>"
   ]
  },
  {
   "cell_type": "markdown",
   "id": "314a4685",
   "metadata": {},
   "source": [
    "1. Elimino la primera columna (**id**) ya que no es relevante, también elimino la columna '**LOS**' o 'Lenght Of Stay' ya el modelo que voy a desarrollar no contempla los días que ha estado hospitalizado ya que los datos clínicos no varían y son del último día de hospitalización. \n",
    "\n",
    "2. Elimino las 4 últimas filas ya que no forman parte de los datos."
   ]
  },
  {
   "cell_type": "code",
   "execution_count": 6,
   "id": "ae4d8a52",
   "metadata": {},
   "outputs": [
    {
     "data": {
      "text/html": [
       "<div>\n",
       "<style scoped>\n",
       "    .dataframe tbody tr th:only-of-type {\n",
       "        vertical-align: middle;\n",
       "    }\n",
       "\n",
       "    .dataframe tbody tr th {\n",
       "        vertical-align: top;\n",
       "    }\n",
       "\n",
       "    .dataframe thead th {\n",
       "        text-align: right;\n",
       "    }\n",
       "</style>\n",
       "<table border=\"1\" class=\"dataframe\">\n",
       "  <thead>\n",
       "    <tr style=\"text-align: right;\">\n",
       "      <th></th>\n",
       "      <th>Age</th>\n",
       "      <th>Sex</th>\n",
       "      <th>Initial PCT value</th>\n",
       "      <th>DM</th>\n",
       "      <th>HTN</th>\n",
       "      <th>COPD</th>\n",
       "      <th>CAD</th>\n",
       "      <th>CHF</th>\n",
       "      <th>CKD w/o dialysis</th>\n",
       "      <th>CKD w dialysis</th>\n",
       "      <th>...</th>\n",
       "      <th>MAP</th>\n",
       "      <th>Vasopressors</th>\n",
       "      <th>Creatinine</th>\n",
       "      <th>UOP</th>\n",
       "      <th>SOFA score</th>\n",
       "      <th>Outcome</th>\n",
       "      <th>Mechanical vent</th>\n",
       "      <th>Anatomical site of infection</th>\n",
       "      <th>Extent of infection</th>\n",
       "      <th>Microorganism</th>\n",
       "    </tr>\n",
       "  </thead>\n",
       "  <tbody>\n",
       "    <tr>\n",
       "      <th>0</th>\n",
       "      <td>66.0</td>\n",
       "      <td>1.0</td>\n",
       "      <td>1,36</td>\n",
       "      <td>2.0</td>\n",
       "      <td>1</td>\n",
       "      <td>2.0</td>\n",
       "      <td>2.0</td>\n",
       "      <td>2.0</td>\n",
       "      <td>2.0</td>\n",
       "      <td>2.0</td>\n",
       "      <td>...</td>\n",
       "      <td>67.0</td>\n",
       "      <td>2.0</td>\n",
       "      <td>0,72</td>\n",
       "      <td>1.0</td>\n",
       "      <td>3.0</td>\n",
       "      <td>4.0</td>\n",
       "      <td>2.0</td>\n",
       "      <td>1</td>\n",
       "      <td>2</td>\n",
       "      <td>3</td>\n",
       "    </tr>\n",
       "    <tr>\n",
       "      <th>1</th>\n",
       "      <td>66.0</td>\n",
       "      <td>1.0</td>\n",
       "      <td>30,53</td>\n",
       "      <td>2.0</td>\n",
       "      <td>1</td>\n",
       "      <td>2.0</td>\n",
       "      <td>2.0</td>\n",
       "      <td>2.0</td>\n",
       "      <td>2.0</td>\n",
       "      <td>2.0</td>\n",
       "      <td>...</td>\n",
       "      <td>66.0</td>\n",
       "      <td>1.0</td>\n",
       "      <td>0,99</td>\n",
       "      <td>1.0</td>\n",
       "      <td>10.0</td>\n",
       "      <td>4.0</td>\n",
       "      <td>2.0</td>\n",
       "      <td>1</td>\n",
       "      <td>2</td>\n",
       "      <td>1</td>\n",
       "    </tr>\n",
       "    <tr>\n",
       "      <th>2</th>\n",
       "      <td>75.0</td>\n",
       "      <td>2.0</td>\n",
       "      <td>3,81</td>\n",
       "      <td>1.0</td>\n",
       "      <td>2</td>\n",
       "      <td>2.0</td>\n",
       "      <td>2.0</td>\n",
       "      <td>1.0</td>\n",
       "      <td>1.0</td>\n",
       "      <td>2.0</td>\n",
       "      <td>...</td>\n",
       "      <td>79.0</td>\n",
       "      <td>2.0</td>\n",
       "      <td>4,75</td>\n",
       "      <td>1.0</td>\n",
       "      <td>4.0</td>\n",
       "      <td>4.0</td>\n",
       "      <td>2.0</td>\n",
       "      <td>2</td>\n",
       "      <td>2</td>\n",
       "      <td>2</td>\n",
       "    </tr>\n",
       "    <tr>\n",
       "      <th>3</th>\n",
       "      <td>60.0</td>\n",
       "      <td>2.0</td>\n",
       "      <td>5,81</td>\n",
       "      <td>2.0</td>\n",
       "      <td>2</td>\n",
       "      <td>2.0</td>\n",
       "      <td>2.0</td>\n",
       "      <td>2.0</td>\n",
       "      <td>2.0</td>\n",
       "      <td>2.0</td>\n",
       "      <td>...</td>\n",
       "      <td>76.0</td>\n",
       "      <td>2.0</td>\n",
       "      <td>1,61</td>\n",
       "      <td>2.0</td>\n",
       "      <td>5.0</td>\n",
       "      <td>4.0</td>\n",
       "      <td>2.0</td>\n",
       "      <td>1</td>\n",
       "      <td>1</td>\n",
       "      <td>1</td>\n",
       "    </tr>\n",
       "    <tr>\n",
       "      <th>4</th>\n",
       "      <td>58.0</td>\n",
       "      <td>1.0</td>\n",
       "      <td>0,22</td>\n",
       "      <td>2.0</td>\n",
       "      <td>1</td>\n",
       "      <td>2.0</td>\n",
       "      <td>1.0</td>\n",
       "      <td>2.0</td>\n",
       "      <td>2.0</td>\n",
       "      <td>2.0</td>\n",
       "      <td>...</td>\n",
       "      <td>74.0</td>\n",
       "      <td>2.0</td>\n",
       "      <td>0,37</td>\n",
       "      <td>1.0</td>\n",
       "      <td>4.0</td>\n",
       "      <td>4.0</td>\n",
       "      <td>1.0</td>\n",
       "      <td>2</td>\n",
       "      <td>2</td>\n",
       "      <td>2</td>\n",
       "    </tr>\n",
       "    <tr>\n",
       "      <th>...</th>\n",
       "      <td>...</td>\n",
       "      <td>...</td>\n",
       "      <td>...</td>\n",
       "      <td>...</td>\n",
       "      <td>...</td>\n",
       "      <td>...</td>\n",
       "      <td>...</td>\n",
       "      <td>...</td>\n",
       "      <td>...</td>\n",
       "      <td>...</td>\n",
       "      <td>...</td>\n",
       "      <td>...</td>\n",
       "      <td>...</td>\n",
       "      <td>...</td>\n",
       "      <td>...</td>\n",
       "      <td>...</td>\n",
       "      <td>...</td>\n",
       "      <td>...</td>\n",
       "      <td>...</td>\n",
       "      <td>...</td>\n",
       "      <td>...</td>\n",
       "    </tr>\n",
       "    <tr>\n",
       "      <th>359</th>\n",
       "      <td>53.0</td>\n",
       "      <td>1.0</td>\n",
       "      <td>28,19</td>\n",
       "      <td>1.0</td>\n",
       "      <td>1</td>\n",
       "      <td>1.0</td>\n",
       "      <td>2.0</td>\n",
       "      <td>2.0</td>\n",
       "      <td>2.0</td>\n",
       "      <td>1.0</td>\n",
       "      <td>...</td>\n",
       "      <td>89.0</td>\n",
       "      <td>2.0</td>\n",
       "      <td>6,67</td>\n",
       "      <td>3.0</td>\n",
       "      <td>8.0</td>\n",
       "      <td>4.0</td>\n",
       "      <td>1.0</td>\n",
       "      <td>1</td>\n",
       "      <td>2</td>\n",
       "      <td>3</td>\n",
       "    </tr>\n",
       "    <tr>\n",
       "      <th>360</th>\n",
       "      <td>71.0</td>\n",
       "      <td>1.0</td>\n",
       "      <td>0,05</td>\n",
       "      <td>2.0</td>\n",
       "      <td>2</td>\n",
       "      <td>2.0</td>\n",
       "      <td>2.0</td>\n",
       "      <td>2.0</td>\n",
       "      <td>2.0</td>\n",
       "      <td>2.0</td>\n",
       "      <td>...</td>\n",
       "      <td>52.0</td>\n",
       "      <td>1.0</td>\n",
       "      <td>0,48</td>\n",
       "      <td>1.0</td>\n",
       "      <td>11.0</td>\n",
       "      <td>3.0</td>\n",
       "      <td>1.0</td>\n",
       "      <td>1</td>\n",
       "      <td>2</td>\n",
       "      <td>3</td>\n",
       "    </tr>\n",
       "    <tr>\n",
       "      <th>361</th>\n",
       "      <td>77.0</td>\n",
       "      <td>2.0</td>\n",
       "      <td>0,1</td>\n",
       "      <td>2.0</td>\n",
       "      <td>1</td>\n",
       "      <td>2.0</td>\n",
       "      <td>2.0</td>\n",
       "      <td>2.0</td>\n",
       "      <td>2.0</td>\n",
       "      <td>2.0</td>\n",
       "      <td>...</td>\n",
       "      <td>113.0</td>\n",
       "      <td>2.0</td>\n",
       "      <td>1,13</td>\n",
       "      <td>1.0</td>\n",
       "      <td>2.0</td>\n",
       "      <td>1.0</td>\n",
       "      <td>2.0</td>\n",
       "      <td>1</td>\n",
       "      <td>2</td>\n",
       "      <td>3</td>\n",
       "    </tr>\n",
       "    <tr>\n",
       "      <th>362</th>\n",
       "      <td>32.0</td>\n",
       "      <td>1.0</td>\n",
       "      <td>0,25</td>\n",
       "      <td>2.0</td>\n",
       "      <td>2</td>\n",
       "      <td>2.0</td>\n",
       "      <td>2.0</td>\n",
       "      <td>2.0</td>\n",
       "      <td>2.0</td>\n",
       "      <td>2.0</td>\n",
       "      <td>...</td>\n",
       "      <td>76.0</td>\n",
       "      <td>2.0</td>\n",
       "      <td>0,95</td>\n",
       "      <td>1.0</td>\n",
       "      <td>3.0</td>\n",
       "      <td>1.0</td>\n",
       "      <td>2.0</td>\n",
       "      <td>1</td>\n",
       "      <td>2</td>\n",
       "      <td>3</td>\n",
       "    </tr>\n",
       "    <tr>\n",
       "      <th>363</th>\n",
       "      <td>52.0</td>\n",
       "      <td>2.0</td>\n",
       "      <td>134,84</td>\n",
       "      <td>1.0</td>\n",
       "      <td>2</td>\n",
       "      <td>1.0</td>\n",
       "      <td>2.0</td>\n",
       "      <td>2.0</td>\n",
       "      <td>2.0</td>\n",
       "      <td>2.0</td>\n",
       "      <td>...</td>\n",
       "      <td>70.0</td>\n",
       "      <td>2.0</td>\n",
       "      <td>2,64</td>\n",
       "      <td>1.0</td>\n",
       "      <td>5.0</td>\n",
       "      <td>4.0</td>\n",
       "      <td>1.0</td>\n",
       "      <td>2,3</td>\n",
       "      <td>2</td>\n",
       "      <td>1,2</td>\n",
       "    </tr>\n",
       "  </tbody>\n",
       "</table>\n",
       "<p>364 rows × 28 columns</p>\n",
       "</div>"
      ],
      "text/plain": [
       "      Age  Sex Initial PCT value   DM HTN  COPD  CAD  CHF  CKD w/o dialysis   \\\n",
       "0    66.0  1.0              1,36  2.0   1   2.0  2.0  2.0                2.0   \n",
       "1    66.0  1.0             30,53  2.0   1   2.0  2.0  2.0                2.0   \n",
       "2    75.0  2.0              3,81  1.0   2   2.0  2.0  1.0                1.0   \n",
       "3    60.0  2.0              5,81  2.0   2   2.0  2.0  2.0                2.0   \n",
       "4    58.0  1.0              0,22  2.0   1   2.0  1.0  2.0                2.0   \n",
       "..    ...  ...               ...  ...  ..   ...  ...  ...                ...   \n",
       "359  53.0  1.0             28,19  1.0   1   1.0  2.0  2.0                2.0   \n",
       "360  71.0  1.0              0,05  2.0   2   2.0  2.0  2.0                2.0   \n",
       "361  77.0  2.0               0,1  2.0   1   2.0  2.0  2.0                2.0   \n",
       "362  32.0  1.0              0,25  2.0   2   2.0  2.0  2.0                2.0   \n",
       "363  52.0  2.0            134,84  1.0   2   1.0  2.0  2.0                2.0   \n",
       "\n",
       "     CKD w dialysis  ...    MAP  Vasopressors  Creatinine  UOP  SOFA score  \\\n",
       "0               2.0  ...   67.0           2.0        0,72  1.0         3.0   \n",
       "1               2.0  ...   66.0           1.0        0,99  1.0        10.0   \n",
       "2               2.0  ...   79.0           2.0        4,75  1.0         4.0   \n",
       "3               2.0  ...   76.0           2.0        1,61  2.0         5.0   \n",
       "4               2.0  ...   74.0           2.0        0,37  1.0         4.0   \n",
       "..              ...  ...    ...           ...         ...  ...         ...   \n",
       "359             1.0  ...   89.0           2.0        6,67  3.0         8.0   \n",
       "360             2.0  ...   52.0           1.0        0,48  1.0        11.0   \n",
       "361             2.0  ...  113.0           2.0        1,13  1.0         2.0   \n",
       "362             2.0  ...   76.0           2.0        0,95  1.0         3.0   \n",
       "363             2.0  ...   70.0           2.0        2,64  1.0         5.0   \n",
       "\n",
       "     Outcome Mechanical vent  Anatomical site of infection   \\\n",
       "0        4.0             2.0                              1   \n",
       "1        4.0             2.0                              1   \n",
       "2        4.0             2.0                              2   \n",
       "3        4.0             2.0                              1   \n",
       "4        4.0             1.0                              2   \n",
       "..       ...             ...                            ...   \n",
       "359      4.0             1.0                              1   \n",
       "360      3.0             1.0                              1   \n",
       "361      1.0             2.0                              1   \n",
       "362      1.0             2.0                              1   \n",
       "363      4.0             1.0                            2,3   \n",
       "\n",
       "     Extent of infection  Microorganism   \n",
       "0                      2               3  \n",
       "1                      2               1  \n",
       "2                      2               2  \n",
       "3                      1               1  \n",
       "4                      2               2  \n",
       "..                   ...             ...  \n",
       "359                    2               3  \n",
       "360                    2               3  \n",
       "361                    2               3  \n",
       "362                    2               3  \n",
       "363                    2             1,2  \n",
       "\n",
       "[364 rows x 28 columns]"
      ]
     },
     "execution_count": 6,
     "metadata": {},
     "output_type": "execute_result"
    }
   ],
   "source": [
    "# Elimino la primera columna (id)\n",
    "rawdf_sinId = rawdf.drop(rawdf.columns[0], axis=1)\n",
    "\n",
    "# Eliminar la columna 'LOS' (Lenght Of Stay; duración estancia hospitalaria)\n",
    "rawdf_sinLOS = rawdf_sinId.drop('LOS', axis=1)\n",
    "\n",
    "# Elimino las últimas cuatro filas\n",
    "df = rawdf_sinLOS.iloc[:-4]  # Selecciono todas las filas menos las 4 ultimas\n",
    "\n",
    "df"
   ]
  },
  {
   "cell_type": "code",
   "execution_count": 7,
   "id": "5958ce1d",
   "metadata": {},
   "outputs": [
    {
     "name": "stdout",
     "output_type": "stream",
     "text": [
      "<class 'pandas.core.frame.DataFrame'>\n",
      "RangeIndex: 364 entries, 0 to 363\n",
      "Data columns (total 28 columns):\n",
      " #   Column                         Non-Null Count  Dtype  \n",
      "---  ------                         --------------  -----  \n",
      " 0   Age                            364 non-null    float64\n",
      " 1   Sex                            364 non-null    float64\n",
      " 2   Initial PCT value              364 non-null    object \n",
      " 3   DM                             364 non-null    float64\n",
      " 4   HTN                            364 non-null    object \n",
      " 5   COPD                           364 non-null    float64\n",
      " 6   CAD                            364 non-null    float64\n",
      " 7   CHF                            364 non-null    float64\n",
      " 8   CKD w/o dialysis               364 non-null    float64\n",
      " 9   CKD w dialysis                 364 non-null    float64\n",
      " 10  afib                           364 non-null    float64\n",
      " 11  PE                             364 non-null    float64\n",
      " 12  cancer                         364 non-null    float64\n",
      " 13  PaO2                           364 non-null    float64\n",
      " 14  FiO2                           364 non-null    float64\n",
      " 15  Platelets                      364 non-null    float64\n",
      " 16  Bilirubin                      364 non-null    object \n",
      " 17  GCS                            364 non-null    float64\n",
      " 18  MAP                            364 non-null    float64\n",
      " 19  Vasopressors                   364 non-null    float64\n",
      " 20  Creatinine                     364 non-null    object \n",
      " 21  UOP                            364 non-null    float64\n",
      " 22  SOFA score                     364 non-null    float64\n",
      " 23  Outcome                        364 non-null    float64\n",
      " 24  Mechanical vent                364 non-null    float64\n",
      " 25  Anatomical site of infection   364 non-null    object \n",
      " 26  Extent of infection            364 non-null    object \n",
      " 27  Microorganism                  364 non-null    object \n",
      "dtypes: float64(21), object(7)\n",
      "memory usage: 79.8+ KB\n",
      "None\n"
     ]
    }
   ],
   "source": [
    "print(df.info())"
   ]
  },
  {
   "cell_type": "markdown",
   "id": "bd43c678",
   "metadata": {},
   "source": [
    "**Recuento de valores nulos**: no hay ningún valor nulo en todo el dataframe."
   ]
  },
  {
   "cell_type": "markdown",
   "id": "61c8f52f",
   "metadata": {},
   "source": [
    "### 2.2. Variables numéricas <a name=\"2.2\"> </a>"
   ]
  },
  {
   "cell_type": "markdown",
   "id": "d32dc33d",
   "metadata": {},
   "source": [
    "Hay **4 atributos 'object'** ('Initial PCT value', 'Bilirubin', 'Creatinine', 'HTN') , pero que en realidad **son tipo numérico**. Esto ocurre porque Pandas detecta como tipo 'object' los atributos que son decimales con coma, en lugar de con punto, que es el formato estándar de Python. Para solucionarlo,  voy a **convertir las comas en puntos** en esos atributos y posteriormente las voy a **convertir a tipo numérico** (float)."
   ]
  },
  {
   "cell_type": "code",
   "execution_count": 8,
   "id": "b2c0de18-5f01-4502-9335-1dea6a84fd4d",
   "metadata": {},
   "outputs": [
    {
     "name": "stdout",
     "output_type": "stream",
     "text": [
      "<class 'pandas.core.frame.DataFrame'>\n",
      "RangeIndex: 364 entries, 0 to 363\n",
      "Data columns (total 4 columns):\n",
      " #   Column             Non-Null Count  Dtype  \n",
      "---  ------             --------------  -----  \n",
      " 0   Initial PCT value  364 non-null    float64\n",
      " 1   Bilirubin          364 non-null    float64\n",
      " 2   Creatinine         364 non-null    float64\n",
      " 3   HTN                364 non-null    float64\n",
      "dtypes: float64(4)\n",
      "memory usage: 11.5 KB\n",
      "None\n",
      "   Initial PCT value  Bilirubin  Creatinine  HTN\n",
      "0               1.36       1.10        0.72  1.0\n",
      "1              30.53       0.40        0.99  1.0\n",
      "2               3.81       0.80        4.75  2.0\n",
      "3               5.81       0.81        1.61  2.0\n",
      "4               0.22       0.60        0.37  1.0\n"
     ]
    },
    {
     "name": "stderr",
     "output_type": "stream",
     "text": [
      "C:\\Users\\natal\\AppData\\Local\\Temp\\ipykernel_31748\\1372779162.py:6: SettingWithCopyWarning: \n",
      "A value is trying to be set on a copy of a slice from a DataFrame.\n",
      "Try using .loc[row_indexer,col_indexer] = value instead\n",
      "\n",
      "See the caveats in the documentation: https://pandas.pydata.org/pandas-docs/stable/user_guide/indexing.html#returning-a-view-versus-a-copy\n",
      "  df[col] = (\n",
      "C:\\Users\\natal\\AppData\\Local\\Temp\\ipykernel_31748\\1372779162.py:6: SettingWithCopyWarning: \n",
      "A value is trying to be set on a copy of a slice from a DataFrame.\n",
      "Try using .loc[row_indexer,col_indexer] = value instead\n",
      "\n",
      "See the caveats in the documentation: https://pandas.pydata.org/pandas-docs/stable/user_guide/indexing.html#returning-a-view-versus-a-copy\n",
      "  df[col] = (\n",
      "C:\\Users\\natal\\AppData\\Local\\Temp\\ipykernel_31748\\1372779162.py:6: SettingWithCopyWarning: \n",
      "A value is trying to be set on a copy of a slice from a DataFrame.\n",
      "Try using .loc[row_indexer,col_indexer] = value instead\n",
      "\n",
      "See the caveats in the documentation: https://pandas.pydata.org/pandas-docs/stable/user_guide/indexing.html#returning-a-view-versus-a-copy\n",
      "  df[col] = (\n",
      "C:\\Users\\natal\\AppData\\Local\\Temp\\ipykernel_31748\\1372779162.py:6: SettingWithCopyWarning: \n",
      "A value is trying to be set on a copy of a slice from a DataFrame.\n",
      "Try using .loc[row_indexer,col_indexer] = value instead\n",
      "\n",
      "See the caveats in the documentation: https://pandas.pydata.org/pandas-docs/stable/user_guide/indexing.html#returning-a-view-versus-a-copy\n",
      "  df[col] = (\n"
     ]
    }
   ],
   "source": [
    "# Reemplazar comas por puntos y convertir a float\n",
    "cols_to_convert_to_float = ['Initial PCT value', 'Bilirubin', 'Creatinine', 'HTN']\n",
    "\n",
    "# Procesar cada columna\n",
    "for col in cols_to_convert_to_float:\n",
    "    df[col] = (\n",
    "        df[col]\n",
    "        .astype(str)  # Asegurarnos de que los datos sean cadenas\n",
    "        .str.replace(',', '.', regex=False)  # Reemplazar comas por puntos\n",
    "        .str.strip()  # Eliminar espacios en blanco\n",
    "        .astype(float)  # Convertir todo a float\n",
    "    )\n",
    "\n",
    "# Verificar el resultado\n",
    "print(df[cols_to_convert_to_float].info())\n",
    "\n",
    "# Mostrar las primeras filas para comprobar el resultado\n",
    "print(df[cols_to_convert_to_float].head())\n"
   ]
  },
  {
   "cell_type": "markdown",
   "id": "e89ea6d1",
   "metadata": {},
   "source": [
    "Voy a convertir el tipo de la variable 'Age', ya que aparece como tipo float pero es un int."
   ]
  },
  {
   "cell_type": "code",
   "execution_count": 9,
   "id": "010d106a",
   "metadata": {},
   "outputs": [
    {
     "name": "stderr",
     "output_type": "stream",
     "text": [
      "C:\\Users\\natal\\AppData\\Local\\Temp\\ipykernel_31748\\3729672396.py:1: SettingWithCopyWarning: \n",
      "A value is trying to be set on a copy of a slice from a DataFrame.\n",
      "Try using .loc[row_indexer,col_indexer] = value instead\n",
      "\n",
      "See the caveats in the documentation: https://pandas.pydata.org/pandas-docs/stable/user_guide/indexing.html#returning-a-view-versus-a-copy\n",
      "  df[\"Age\"] = df[\"Age\"].astype(int)\n"
     ]
    }
   ],
   "source": [
    "df[\"Age\"] = df[\"Age\"].astype(int)"
   ]
  },
  {
   "cell_type": "code",
   "execution_count": 10,
   "id": "83f460a4-6816-44de-a6cd-4acc6972d0f3",
   "metadata": {},
   "outputs": [
    {
     "name": "stdout",
     "output_type": "stream",
     "text": [
      "<class 'pandas.core.frame.DataFrame'>\n",
      "RangeIndex: 364 entries, 0 to 363\n",
      "Data columns (total 28 columns):\n",
      " #   Column                         Non-Null Count  Dtype  \n",
      "---  ------                         --------------  -----  \n",
      " 0   Age                            364 non-null    int64  \n",
      " 1   Sex                            364 non-null    float64\n",
      " 2   Initial PCT value              364 non-null    float64\n",
      " 3   DM                             364 non-null    float64\n",
      " 4   HTN                            364 non-null    float64\n",
      " 5   COPD                           364 non-null    float64\n",
      " 6   CAD                            364 non-null    float64\n",
      " 7   CHF                            364 non-null    float64\n",
      " 8   CKD w/o dialysis               364 non-null    float64\n",
      " 9   CKD w dialysis                 364 non-null    float64\n",
      " 10  afib                           364 non-null    float64\n",
      " 11  PE                             364 non-null    float64\n",
      " 12  cancer                         364 non-null    float64\n",
      " 13  PaO2                           364 non-null    float64\n",
      " 14  FiO2                           364 non-null    float64\n",
      " 15  Platelets                      364 non-null    float64\n",
      " 16  Bilirubin                      364 non-null    float64\n",
      " 17  GCS                            364 non-null    float64\n",
      " 18  MAP                            364 non-null    float64\n",
      " 19  Vasopressors                   364 non-null    float64\n",
      " 20  Creatinine                     364 non-null    float64\n",
      " 21  UOP                            364 non-null    float64\n",
      " 22  SOFA score                     364 non-null    float64\n",
      " 23  Outcome                        364 non-null    float64\n",
      " 24  Mechanical vent                364 non-null    float64\n",
      " 25  Anatomical site of infection   364 non-null    object \n",
      " 26  Extent of infection            364 non-null    object \n",
      " 27  Microorganism                  364 non-null    object \n",
      "dtypes: float64(24), int64(1), object(3)\n",
      "memory usage: 79.8+ KB\n",
      "None\n"
     ]
    }
   ],
   "source": [
    "print(df.info())"
   ]
  },
  {
   "cell_type": "code",
   "execution_count": 11,
   "id": "ead86b3c",
   "metadata": {},
   "outputs": [
    {
     "name": "stdout",
     "output_type": "stream",
     "text": [
      "Age                              0\n",
      "Sex                              0\n",
      "Initial PCT value                0\n",
      "DM                               0\n",
      "HTN                              0\n",
      "COPD                             0\n",
      "CAD                              0\n",
      "CHF                              0\n",
      "CKD w/o dialysis                 0\n",
      "CKD w dialysis                   0\n",
      "afib                             0\n",
      "PE                               0\n",
      "cancer                           0\n",
      "PaO2                             0\n",
      "FiO2                             0\n",
      "Platelets                        0\n",
      "Bilirubin                        0\n",
      "GCS                              0\n",
      "MAP                              0\n",
      "Vasopressors                     0\n",
      "Creatinine                       0\n",
      "UOP                              0\n",
      "SOFA score                       0\n",
      "Outcome                          0\n",
      "Mechanical vent                  0\n",
      "Anatomical site of infection     0\n",
      "Extent of infection              0\n",
      "Microorganism                    0\n",
      "dtype: int64\n"
     ]
    }
   ],
   "source": [
    "# Contar los valores NaN en cada columna\n",
    "nan_counts = df.isna().sum()\n",
    "\n",
    "# Mostrar los resultados\n",
    "print(nan_counts)"
   ]
  },
  {
   "cell_type": "code",
   "execution_count": 12,
   "id": "b632485e",
   "metadata": {},
   "outputs": [
    {
     "name": "stdout",
     "output_type": "stream",
     "text": [
      "['Age', 'Sex', 'Initial PCT value', 'DM', 'HTN', 'COPD', 'CAD', 'CHF', 'CKD w/o dialysis ', 'CKD w dialysis', 'afib ', 'PE', 'cancer ', 'PaO2', 'FiO2', 'Platelets', 'Bilirubin', 'GCS', 'MAP', 'Vasopressors', 'Creatinine', 'UOP', 'SOFA score', 'Outcome', 'Mechanical vent', 'Anatomical site of infection ', 'Extent of infection', 'Microorganism ']\n"
     ]
    }
   ],
   "source": [
    "# Guardar las columnas del DataFrame en una lista\n",
    "columnas = df.columns.tolist()\n",
    "\n",
    "# Imprimir la lista de columnas\n",
    "print(columnas)\n"
   ]
  },
  {
   "cell_type": "markdown",
   "id": "82b609a5",
   "metadata": {},
   "source": [
    "### 2.3. Variables binarias <a name=\"2.3\"> </a>"
   ]
  },
  {
   "cell_type": "code",
   "execution_count": 13,
   "id": "16887e6f-6987-400d-a237-77d5421c0803",
   "metadata": {},
   "outputs": [
    {
     "name": "stdout",
     "output_type": "stream",
     "text": [
      "[2. 1.]\n",
      "[2. 1.]\n",
      "[2. 1.]\n",
      "[2. 1.]\n",
      "[2. 1.]\n",
      "[2. 1.]\n",
      "[2. 1.]\n",
      "[2. 1.]\n",
      "[2. 1.]\n",
      "[1. 2.]\n",
      "[2. 1.]\n",
      "[1. 2.]\n"
     ]
    }
   ],
   "source": [
    "# Verificar valores únicos en cada columna\n",
    "print(df['cancer '].unique())\n",
    "print(df['PE'].unique())\n",
    "print(df['afib '].unique())\n",
    "print(df['CKD w dialysis'].unique())\n",
    "print(df['CKD w/o dialysis '].unique())\n",
    "print(df['CHF'].unique())\n",
    "print(df['CAD'].unique())\n",
    "print(df['COPD'].unique())\n",
    "print(df['DM'].unique())\n",
    "print(df['HTN'].unique())\n",
    "print(df['Mechanical vent'].unique())\n",
    "print(df['Sex'].unique())"
   ]
  },
  {
   "cell_type": "code",
   "execution_count": 14,
   "id": "55b5a962",
   "metadata": {},
   "outputs": [
    {
     "name": "stderr",
     "output_type": "stream",
     "text": [
      "C:\\Users\\natal\\AppData\\Local\\Temp\\ipykernel_31748\\271124767.py:8: SettingWithCopyWarning: \n",
      "A value is trying to be set on a copy of a slice from a DataFrame.\n",
      "Try using .loc[row_indexer,col_indexer] = value instead\n",
      "\n",
      "See the caveats in the documentation: https://pandas.pydata.org/pandas-docs/stable/user_guide/indexing.html#returning-a-view-versus-a-copy\n",
      "  df[binary_cols] = df[binary_cols].apply(lambda x: x.map({2.0: 0, 1.0: 1}).astype(int))\n"
     ]
    }
   ],
   "source": [
    "# Lista de columnas binarias\n",
    "binary_cols = [\n",
    "    'cancer ', 'PE', 'afib ', 'CKD w dialysis', 'CKD w/o dialysis ',\n",
    "    'CHF', 'CAD', 'COPD', 'DM', 'HTN', 'Mechanical vent', 'Sex'\n",
    "]\n",
    "\n",
    "# Aplicar mapeo a cada columna y convertir a entero\n",
    "df[binary_cols] = df[binary_cols].apply(lambda x: x.map({2.0: 0, 1.0: 1}).astype(int))\n",
    "\n",
    "\n"
   ]
  },
  {
   "cell_type": "code",
   "execution_count": 15,
   "id": "ddb3cc81",
   "metadata": {},
   "outputs": [
    {
     "name": "stdout",
     "output_type": "stream",
     "text": [
      "[0 1]\n",
      "[0 1]\n",
      "[0 1]\n",
      "[0 1]\n",
      "[0 1]\n",
      "[0 1]\n",
      "[0 1]\n",
      "[0 1]\n",
      "[0 1]\n",
      "[1 0]\n",
      "[0 1]\n",
      "[1 0]\n",
      "<class 'pandas.core.frame.DataFrame'>\n",
      "RangeIndex: 364 entries, 0 to 363\n",
      "Data columns (total 28 columns):\n",
      " #   Column                         Non-Null Count  Dtype  \n",
      "---  ------                         --------------  -----  \n",
      " 0   Age                            364 non-null    int64  \n",
      " 1   Sex                            364 non-null    int64  \n",
      " 2   Initial PCT value              364 non-null    float64\n",
      " 3   DM                             364 non-null    int64  \n",
      " 4   HTN                            364 non-null    int64  \n",
      " 5   COPD                           364 non-null    int64  \n",
      " 6   CAD                            364 non-null    int64  \n",
      " 7   CHF                            364 non-null    int64  \n",
      " 8   CKD w/o dialysis               364 non-null    int64  \n",
      " 9   CKD w dialysis                 364 non-null    int64  \n",
      " 10  afib                           364 non-null    int64  \n",
      " 11  PE                             364 non-null    int64  \n",
      " 12  cancer                         364 non-null    int64  \n",
      " 13  PaO2                           364 non-null    float64\n",
      " 14  FiO2                           364 non-null    float64\n",
      " 15  Platelets                      364 non-null    float64\n",
      " 16  Bilirubin                      364 non-null    float64\n",
      " 17  GCS                            364 non-null    float64\n",
      " 18  MAP                            364 non-null    float64\n",
      " 19  Vasopressors                   364 non-null    float64\n",
      " 20  Creatinine                     364 non-null    float64\n",
      " 21  UOP                            364 non-null    float64\n",
      " 22  SOFA score                     364 non-null    float64\n",
      " 23  Outcome                        364 non-null    float64\n",
      " 24  Mechanical vent                364 non-null    int64  \n",
      " 25  Anatomical site of infection   364 non-null    object \n",
      " 26  Extent of infection            364 non-null    object \n",
      " 27  Microorganism                  364 non-null    object \n",
      "dtypes: float64(12), int64(13), object(3)\n",
      "memory usage: 79.8+ KB\n",
      "None\n"
     ]
    }
   ],
   "source": [
    "# Verificar valores únicos en cada columna\n",
    "print(df['cancer '].unique())\n",
    "print(df['PE'].unique())\n",
    "print(df['afib '].unique())\n",
    "print(df['CKD w dialysis'].unique())\n",
    "print(df['CKD w/o dialysis '].unique())\n",
    "print(df['CHF'].unique())\n",
    "print(df['CAD'].unique())\n",
    "print(df['COPD'].unique())\n",
    "print(df['DM'].unique())\n",
    "print(df['HTN'].unique())\n",
    "print(df['Mechanical vent'].unique())\n",
    "print(df['Sex'].unique())\n",
    "\n",
    "print(df.info())    "
   ]
  },
  {
   "cell_type": "markdown",
   "id": "3ad772e1",
   "metadata": {},
   "source": [
    "### 2.4. Variables categóricas <a name=\"2.4\"> </a>"
   ]
  },
  {
   "cell_type": "markdown",
   "id": "d5e97da0",
   "metadata": {},
   "source": [
    "Hay 4 atributos de tipo numérico que realmente son de tipo categórico: Microorganism, Anatomical site of infection, Exent of infection, UOP (Urine Output ml/24 h).\n",
    "\n",
    "A estas cuatro variables categóricas les voy a aplicar codificación one-hot para transformar estos datos categóricos en un formato numérico comprensible para los algoritmos de machine learning que posteriormente aplicaré. Esto evitará que los modelos utilicen de forma errónea el orden o la relación entre las categorías y mejorará la precisión y eficiencia del modelo al tratar cada categoría de manera independiente.\n",
    "Como resultado, cada valor categórico se convertirá en una nueva columna binaria en el dataframe, y las tres columnas originales serán eliminadas.\n"
   ]
  },
  {
   "cell_type": "markdown",
   "id": "b6ca3a27",
   "metadata": {},
   "source": [
    "**Microorganism**"
   ]
  },
  {
   "cell_type": "code",
   "execution_count": 16,
   "id": "77b8e183",
   "metadata": {},
   "outputs": [
    {
     "name": "stdout",
     "output_type": "stream",
     "text": [
      "Microorganism \n",
      "3       157\n",
      "1        98\n",
      "2        90\n",
      "1,2       5\n",
      "4         4\n",
      "1, 2      4\n",
      "2, 3      3\n",
      "3, 2      1\n",
      "3,2       1\n",
      "2,3       1\n",
      "Name: count, dtype: int64\n"
     ]
    }
   ],
   "source": [
    "print(df[\"Microorganism \"].value_counts())"
   ]
  },
  {
   "cell_type": "code",
   "execution_count": 17,
   "id": "5a194532",
   "metadata": {},
   "outputs": [
    {
     "name": "stdout",
     "output_type": "stream",
     "text": [
      "Valores únicos en Microorganism: ['3' '1' '2' '1, 2' '3, 2' '4' '2, 3' '3,2' '1,2' '2,3']\n",
      "   Age  Sex  Initial PCT value  DM  HTN  COPD  CAD  CHF  CKD w/o dialysis   \\\n",
      "0   66    1               1.36   0    1     0    0    0                  0   \n",
      "1   66    1              30.53   0    1     0    0    0                  0   \n",
      "2   75    0               3.81   1    0     0    0    1                  1   \n",
      "3   60    0               5.81   0    0     0    0    0                  0   \n",
      "4   58    1               0.22   0    1     0    1    0                  0   \n",
      "\n",
      "   CKD w dialysis  ...  Outcome  Mechanical vent  \\\n",
      "0               0  ...      4.0                0   \n",
      "1               0  ...      4.0                0   \n",
      "2               0  ...      4.0                0   \n",
      "3               0  ...      4.0                0   \n",
      "4               0  ...      4.0                1   \n",
      "\n",
      "   Anatomical site of infection   Extent of infection  Microorganism_1  \\\n",
      "0                              1                    2            False   \n",
      "1                              1                    2             True   \n",
      "2                              2                    2            False   \n",
      "3                              1                    1             True   \n",
      "4                              2                    2            False   \n",
      "\n",
      "   Microorganism_2  Microorganism_3  Microorganism_4  Microorganism_5  \\\n",
      "0            False             True            False            False   \n",
      "1            False            False            False            False   \n",
      "2             True            False            False            False   \n",
      "3            False            False            False            False   \n",
      "4             True            False            False            False   \n",
      "\n",
      "   Microorganism_6  \n",
      "0            False  \n",
      "1            False  \n",
      "2            False  \n",
      "3            False  \n",
      "4            False  \n",
      "\n",
      "[5 rows x 33 columns]\n"
     ]
    },
    {
     "name": "stderr",
     "output_type": "stream",
     "text": [
      "C:\\Users\\natal\\AppData\\Local\\Temp\\ipykernel_31748\\2061882362.py:10: SettingWithCopyWarning: \n",
      "A value is trying to be set on a copy of a slice from a DataFrame.\n",
      "Try using .loc[row_indexer,col_indexer] = value instead\n",
      "\n",
      "See the caveats in the documentation: https://pandas.pydata.org/pandas-docs/stable/user_guide/indexing.html#returning-a-view-versus-a-copy\n",
      "  df['Microorganism '] = df['Microorganism '].replace(microorganism_mapping)\n",
      "C:\\Users\\natal\\AppData\\Local\\Temp\\ipykernel_31748\\2061882362.py:13: SettingWithCopyWarning: \n",
      "A value is trying to be set on a copy of a slice from a DataFrame.\n",
      "Try using .loc[row_indexer,col_indexer] = value instead\n",
      "\n",
      "See the caveats in the documentation: https://pandas.pydata.org/pandas-docs/stable/user_guide/indexing.html#returning-a-view-versus-a-copy\n",
      "  df['Microorganism '] = df['Microorganism '].astype(int)\n"
     ]
    }
   ],
   "source": [
    "\n",
    "print(\"Valores únicos en Microorganism:\", df[\"Microorganism \"].unique())\n",
    "\n",
    "# Mapeo de combinaciones a valores únicos\n",
    "microorganism_mapping = {\n",
    "    '1,2': 5, '1, 2': 5, '2,1': 5, '2, 1': 5,\n",
    "    '2,3': 6, '3,2': 6, '3, 2': 6, '2, 3': 6\n",
    "}\n",
    "\n",
    "# Reemplazar los valores combinados por sus nuevas categorías\n",
    "df['Microorganism '] = df['Microorganism '].replace(microorganism_mapping)\n",
    "\n",
    "# Convertir los valores a enteros\n",
    "df['Microorganism '] = df['Microorganism '].astype(int)\n",
    "\n",
    "# Aplicar One-Hot Encoding\n",
    "df = pd.get_dummies(df, columns=['Microorganism '], prefix=\"Microorganism\")\n",
    "\n",
    "# Verificar resultado\n",
    "print(df.head())\n"
   ]
  },
  {
   "cell_type": "markdown",
   "id": "fc2ddacc",
   "metadata": {},
   "source": [
    "**Exent of infection**"
   ]
  },
  {
   "cell_type": "code",
   "execution_count": 18,
   "id": "f7d493ca",
   "metadata": {},
   "outputs": [
    {
     "name": "stdout",
     "output_type": "stream",
     "text": [
      "Valores únicos en Extent of infection: ['2' '1' '1, 2']\n",
      "Valores únicos después de limpiar: ['2' '1' 3]\n",
      "   Age  Sex  Initial PCT value  DM  HTN  COPD  CAD  CHF  CKD w/o dialysis   \\\n",
      "0   66    1               1.36   0    1     0    0    0                  0   \n",
      "1   66    1              30.53   0    1     0    0    0                  0   \n",
      "2   75    0               3.81   1    0     0    0    1                  1   \n",
      "3   60    0               5.81   0    0     0    0    0                  0   \n",
      "4   58    1               0.22   0    1     0    1    0                  0   \n",
      "\n",
      "   CKD w dialysis  ...  Anatomical site of infection   Microorganism_1  \\\n",
      "0               0  ...                              1            False   \n",
      "1               0  ...                              1             True   \n",
      "2               0  ...                              2            False   \n",
      "3               0  ...                              1             True   \n",
      "4               0  ...                              2            False   \n",
      "\n",
      "   Microorganism_2  Microorganism_3  Microorganism_4  Microorganism_5  \\\n",
      "0            False             True            False            False   \n",
      "1            False            False            False            False   \n",
      "2             True            False            False            False   \n",
      "3            False            False            False            False   \n",
      "4             True            False            False            False   \n",
      "\n",
      "   Microorganism_6  Extent_1  Extent_2  Extent_3  \n",
      "0            False     False      True     False  \n",
      "1            False     False      True     False  \n",
      "2            False     False      True     False  \n",
      "3            False      True     False     False  \n",
      "4            False     False      True     False  \n",
      "\n",
      "[5 rows x 35 columns]\n"
     ]
    }
   ],
   "source": [
    "print(\"Valores únicos en Extent of infection:\", df[\"Extent of infection\"].unique())\n",
    "\n",
    "df[\"Extent of infection\"] = df[\"Extent of infection\"].astype(str).str.strip()\n",
    "\n",
    "# Reemplazar combinaciones por el valor 3\n",
    "df[\"Extent of infection\"] = df[\"Extent of infection\"].replace({'1,2': 3, '2,1': 3, '1, 2': 3, '2, 3': 3, '3, 2': 3})\n",
    "print(\"Valores únicos después de limpiar:\", df[\"Extent of infection\"].unique())\n",
    "\n",
    "# Convertir a entero\n",
    "df[\"Extent of infection\"] = df[\"Extent of infection\"].astype(int)\n",
    "\n",
    "# One-Hot Encoding\n",
    "df = pd.get_dummies(df, columns=[\"Extent of infection\"], prefix=\"Extent\")\n",
    "print(df.head())\n",
    "\n"
   ]
  },
  {
   "cell_type": "markdown",
   "id": "8fc60346",
   "metadata": {},
   "source": [
    "**Anatomical site of infection**"
   ]
  },
  {
   "cell_type": "code",
   "execution_count": 19,
   "id": "49099c09",
   "metadata": {},
   "outputs": [
    {
     "name": "stdout",
     "output_type": "stream",
     "text": [
      "Valores únicos en Anatomical site of infection: ['1' '2' '7' '3' '1, 2' '6' '4' '6, 1' '3, 6' '5' '1,2' '1,2,3' '1,4'\n",
      " '1,3' '2,3' '7, 2' '1, 6']\n"
     ]
    }
   ],
   "source": [
    "print(\"Valores únicos en Anatomical site of infection:\", df[\"Anatomical site of infection \"].unique())"
   ]
  },
  {
   "cell_type": "code",
   "execution_count": 20,
   "id": "cf532602",
   "metadata": {},
   "outputs": [
    {
     "name": "stdout",
     "output_type": "stream",
     "text": [
      "Recuento de valores únicos en Anatomical site of infection:\n",
      "Anatomical site of infection \n",
      "1        166\n",
      "2         71\n",
      "3         44\n",
      "7         32\n",
      "6         27\n",
      "1, 2       4\n",
      "4          4\n",
      "1,2        4\n",
      "5          3\n",
      "2,3        2\n",
      "6, 1       1\n",
      "3, 6       1\n",
      "1,2,3      1\n",
      "1,4        1\n",
      "1,3        1\n",
      "7, 2       1\n",
      "1, 6       1\n",
      "Name: count, dtype: int64\n"
     ]
    }
   ],
   "source": [
    "print(\"Recuento de valores únicos en Anatomical site of infection:\")\n",
    "print(df[\"Anatomical site of infection \"].value_counts())\n"
   ]
  },
  {
   "cell_type": "code",
   "execution_count": 21,
   "id": "66b46b16",
   "metadata": {},
   "outputs": [
    {
     "name": "stdout",
     "output_type": "stream",
     "text": [
      "Valores únicos antes de limpiar: ['1' '2' '7' '3' '1,2' '6' '4' '6,1' '3,6' '5' '1,2,3' '1,4' '1,3' '2,3'\n",
      " '7,2' '1,6']\n",
      "   Age  Sex  Initial PCT value  DM  HTN  COPD  CAD  CHF  CKD w/o dialysis   \\\n",
      "0   66    1               1.36   0    1     0    0    0                  0   \n",
      "1   66    1              30.53   0    1     0    0    0                  0   \n",
      "2   75    0               3.81   1    0     0    0    1                  1   \n",
      "3   60    0               5.81   0    0     0    0    0                  0   \n",
      "4   58    1               0.22   0    1     0    1    0                  0   \n",
      "\n",
      "   CKD w dialysis  ...  Extent_2  Extent_3  Anatomical_1  Anatomical_2  \\\n",
      "0               0  ...      True     False          True         False   \n",
      "1               0  ...      True     False          True         False   \n",
      "2               0  ...      True     False         False          True   \n",
      "3               0  ...     False     False          True         False   \n",
      "4               0  ...      True     False         False          True   \n",
      "\n",
      "   Anatomical_3  Anatomical_4  Anatomical_5  Anatomical_6  Anatomical_7  \\\n",
      "0         False         False         False         False         False   \n",
      "1         False         False         False         False         False   \n",
      "2         False         False         False         False         False   \n",
      "3         False         False         False         False         False   \n",
      "4         False         False         False         False         False   \n",
      "\n",
      "   Anatomical_8  \n",
      "0         False  \n",
      "1         False  \n",
      "2         False  \n",
      "3         False  \n",
      "4         False  \n",
      "\n",
      "[5 rows x 42 columns]\n"
     ]
    }
   ],
   "source": [
    "# Limpiar la columna: eliminamos espacios y caracteres extra\n",
    "df[\"Anatomical site of infection \"] = df[\"Anatomical site of infection \"].astype(str).str.replace(\" \", \"\").str.strip()\n",
    "\n",
    "# Verificar qué valores únicos hay antes de reemplazar\n",
    "print(\"Valores únicos antes de limpiar:\", df[\"Anatomical site of infection \"].unique())\n",
    "\n",
    "# Reemplazar las combinaciones por la categoría 8 y las categorías individuales permanecen igual\n",
    "df[\"Anatomical site of infection \"] = df[\"Anatomical site of infection \"].replace({\n",
    "    '1,2': 8, '2,1': 8, \n",
    "    '1,3': 8, '3,1': 8, \n",
    "    '1,4': 8, '4,1': 8, \n",
    "    '1,6': 8, '6,1': 8, \n",
    "    '2,3': 8, '3,2': 8, \n",
    "    '2,7': 8, '7,2': 8, \n",
    "    '3,6': 8, '6,3': 8, \n",
    "    '1,2,3': 8  # Aseguramos que todas las combinaciones posibles estén cubiertas\n",
    "})\n",
    "\n",
    "# Convertir a tipo entero\n",
    "df[\"Anatomical site of infection \"] = df[\"Anatomical site of infection \"].astype(int)\n",
    "\n",
    "# Aplicar One-Hot Encoding\n",
    "df = pd.get_dummies(df, columns=[\"Anatomical site of infection \"], prefix=\"Anatomical\")\n",
    "\n",
    "# Ver las primeras filas del dataframe para verificar\n",
    "print(df.head())\n",
    "\n"
   ]
  },
  {
   "cell_type": "markdown",
   "id": "3f6402f3",
   "metadata": {},
   "source": [
    "**UOP (Urine Output ml/24 h)**"
   ]
  },
  {
   "cell_type": "code",
   "execution_count": 22,
   "id": "8db1a039",
   "metadata": {},
   "outputs": [
    {
     "name": "stdout",
     "output_type": "stream",
     "text": [
      "Valores únicos en UOP: [1. 2. 3.]\n",
      "   Age  Sex  Initial PCT value  DM  HTN  COPD  CAD  CHF  CKD w/o dialysis   \\\n",
      "0   66    1               1.36   0    1     0    0    0                  0   \n",
      "1   66    1              30.53   0    1     0    0    0                  0   \n",
      "2   75    0               3.81   1    0     0    0    1                  1   \n",
      "3   60    0               5.81   0    0     0    0    0                  0   \n",
      "4   58    1               0.22   0    1     0    1    0                  0   \n",
      "\n",
      "   CKD w dialysis  ...  Anatomical_2  Anatomical_3  Anatomical_4  \\\n",
      "0               0  ...         False         False         False   \n",
      "1               0  ...         False         False         False   \n",
      "2               0  ...          True         False         False   \n",
      "3               0  ...         False         False         False   \n",
      "4               0  ...          True         False         False   \n",
      "\n",
      "   Anatomical_5  Anatomical_6  Anatomical_7  Anatomical_8  UOP_1.0  UOP_2.0  \\\n",
      "0         False         False         False         False     True    False   \n",
      "1         False         False         False         False     True    False   \n",
      "2         False         False         False         False     True    False   \n",
      "3         False         False         False         False    False     True   \n",
      "4         False         False         False         False     True    False   \n",
      "\n",
      "   UOP_3.0  \n",
      "0    False  \n",
      "1    False  \n",
      "2    False  \n",
      "3    False  \n",
      "4    False  \n",
      "\n",
      "[5 rows x 44 columns]\n"
     ]
    }
   ],
   "source": [
    "print(\"Valores únicos en UOP:\", df[\"UOP\"].unique())\n",
    "\n",
    "# One-Hot Encoding\n",
    "df = pd.get_dummies(df, columns=[\"UOP\"], prefix=\"UOP\")\n",
    "print(df.head())\n"
   ]
  },
  {
   "cell_type": "code",
   "execution_count": 23,
   "id": "852ddd77",
   "metadata": {},
   "outputs": [
    {
     "name": "stdout",
     "output_type": "stream",
     "text": [
      "['Age', 'Sex', 'Initial PCT value', 'DM', 'HTN', 'COPD', 'CAD', 'CHF', 'CKD w/o dialysis ', 'CKD w dialysis', 'afib ', 'PE', 'cancer ', 'PaO2', 'FiO2', 'Platelets', 'Bilirubin', 'GCS', 'MAP', 'Vasopressors', 'Creatinine', 'SOFA score', 'Outcome', 'Mechanical vent', 'Microorganism_1', 'Microorganism_2', 'Microorganism_3', 'Microorganism_4', 'Microorganism_5', 'Microorganism_6', 'Extent_1', 'Extent_2', 'Extent_3', 'Anatomical_1', 'Anatomical_2', 'Anatomical_3', 'Anatomical_4', 'Anatomical_5', 'Anatomical_6', 'Anatomical_7', 'Anatomical_8', 'UOP_1.0', 'UOP_2.0', 'UOP_3.0']\n"
     ]
    }
   ],
   "source": [
    "# Guardar las columnas del DataFrame en una lista\n",
    "columnas = df.columns.tolist()\n",
    "# Imprimir la lista de columnas\n",
    "print(columnas)"
   ]
  },
  {
   "cell_type": "markdown",
   "id": "07484bc4",
   "metadata": {},
   "source": [
    "Ahora que ya está aplicada la codificación one-hot en esas tres variables categóricas, las columnas que se han generado son de tipo bool, las voy a convertir a tipo int (0 y 1), para garantizar la compatibilidad con algunos modelos de machine learning."
   ]
  },
  {
   "cell_type": "code",
   "execution_count": 24,
   "id": "fcbe1916",
   "metadata": {},
   "outputs": [],
   "source": [
    "# Seleccionar solo las columnas booleanas\n",
    "bool_cols = df.select_dtypes(include=['bool']).columns  \n",
    "df[bool_cols] = df[bool_cols].astype(int)\n"
   ]
  },
  {
   "cell_type": "markdown",
   "id": "19fa4f0d",
   "metadata": {},
   "source": [
    "### 2.5. Variable target: 'Vasopressors' (shock séptico) <a name=\"2.5\"> </a>"
   ]
  },
  {
   "cell_type": "markdown",
   "id": "a81d40fc",
   "metadata": {},
   "source": [
    "La variable '**Vasopressors**' categórica que indica que el paciente ha sufrido un shock séptico o no. En el dataset original adopta dos posibles valores:\n",
    "- 1.0 = yes \n",
    "- 2.0 = no\n",
    "\n",
    "Lo que voy a hacer es mapear los valores para que sea un formato binario de 0 y 1:\n",
    "- 1 = yes\n",
    "- 0 = no"
   ]
  },
  {
   "cell_type": "code",
   "execution_count": 25,
   "id": "0886ff00",
   "metadata": {},
   "outputs": [
    {
     "name": "stdout",
     "output_type": "stream",
     "text": [
      "Valores únicos en Vasopressors antes de la transformación: [2. 1.]\n"
     ]
    }
   ],
   "source": [
    "print(\"Valores únicos en Vasopressors antes de la transformación:\", df[\"Vasopressors\"].unique())"
   ]
  },
  {
   "cell_type": "code",
   "execution_count": 26,
   "id": "e6af4657",
   "metadata": {},
   "outputs": [
    {
     "name": "stdout",
     "output_type": "stream",
     "text": [
      "Valores únicos en Vasopressors después de la transformación: [0 1]\n"
     ]
    }
   ],
   "source": [
    "df[\"Vasopressors\"] = df[\"Vasopressors\"].map({1.0: 1, 2.0: 0}).astype(int)\n",
    "\n",
    "print(\"Valores únicos en Vasopressors después de la transformación:\", df[\"Vasopressors\"].unique())\n",
    "\n",
    "# 0 = yes -> hay 297 con shock septico\n",
    "# 1 = no -> hay 67 sin shock septico"
   ]
  },
  {
   "cell_type": "markdown",
   "id": "c1cda851",
   "metadata": {},
   "source": [
    "### 2.5. Variable target: 'Outcome' (Supervivencia) <a name=\"2.5\"> </a>"
   ]
  },
  {
   "cell_type": "markdown",
   "id": "c50ef7bb",
   "metadata": {},
   "source": [
    "**Outcome**: es la variable categórica que indica si un paciente sobrevivió o no. Sus posibles valores son:\n",
    "- 1.0: SÍ sobrevivió\n",
    "- 2.0: NO sobrevivió\n",
    "- 3.0: se trasladó a UCI pero NO sobrevivió\n",
    "- 4.0: se trasladó a la UCI y SÍ sobrevivió"
   ]
  },
  {
   "cell_type": "code",
   "execution_count": 27,
   "id": "7956aa49",
   "metadata": {},
   "outputs": [
    {
     "data": {
      "text/plain": [
       "Outcome\n",
       "4.0    183\n",
       "1.0    133\n",
       "3.0     45\n",
       "2.0      3\n",
       "Name: count, dtype: int64"
      ]
     },
     "execution_count": 27,
     "metadata": {},
     "output_type": "execute_result"
    }
   ],
   "source": [
    "# target 2: survival (outcome)\n",
    "df['Outcome'].value_counts()\n",
    "\n",
    "# 1.0: yes -> 133\n",
    "# 2.0: no -> 3\n",
    "# 3.0: no (uci) -> 45\n",
    "# 4.0: yes (uci) -> 183\n",
    "\n",
    "# total yes: 133+183 = 316\n",
    "# total no: 48\n"
   ]
  },
  {
   "cell_type": "code",
   "execution_count": 28,
   "id": "5f2cc1d3",
   "metadata": {},
   "outputs": [
    {
     "name": "stdout",
     "output_type": "stream",
     "text": [
      "Valores únicos en Outcome después de la transformación: [1 0]\n"
     ]
    },
    {
     "data": {
      "text/plain": [
       "Outcome\n",
       "1    316\n",
       "0     48\n",
       "Name: count, dtype: int64"
      ]
     },
     "execution_count": 28,
     "metadata": {},
     "output_type": "execute_result"
    }
   ],
   "source": [
    "# Mapear Outcome a binario (1 = sobrevivió, 0 = no sobrevivió)\n",
    "df[\"Outcome\"] = df[\"Outcome\"].map({1.0: 1, 4.0: 1, 2.0: 0, 3.0: 0}).astype(int)\n",
    "\n",
    "print(\"Valores únicos en Outcome después de la transformación:\", df[\"Outcome\"].unique())\n",
    "\n",
    "df['Outcome'].value_counts()"
   ]
  },
  {
   "cell_type": "code",
   "execution_count": 29,
   "id": "2a9744cd",
   "metadata": {},
   "outputs": [
    {
     "name": "stdout",
     "output_type": "stream",
     "text": [
      "<class 'pandas.core.frame.DataFrame'>\n",
      "RangeIndex: 364 entries, 0 to 363\n",
      "Data columns (total 44 columns):\n",
      " #   Column             Non-Null Count  Dtype  \n",
      "---  ------             --------------  -----  \n",
      " 0   Age                364 non-null    int64  \n",
      " 1   Sex                364 non-null    int64  \n",
      " 2   Initial PCT value  364 non-null    float64\n",
      " 3   DM                 364 non-null    int64  \n",
      " 4   HTN                364 non-null    int64  \n",
      " 5   COPD               364 non-null    int64  \n",
      " 6   CAD                364 non-null    int64  \n",
      " 7   CHF                364 non-null    int64  \n",
      " 8   CKD w/o dialysis   364 non-null    int64  \n",
      " 9   CKD w dialysis     364 non-null    int64  \n",
      " 10  afib               364 non-null    int64  \n",
      " 11  PE                 364 non-null    int64  \n",
      " 12  cancer             364 non-null    int64  \n",
      " 13  PaO2               364 non-null    float64\n",
      " 14  FiO2               364 non-null    float64\n",
      " 15  Platelets          364 non-null    float64\n",
      " 16  Bilirubin          364 non-null    float64\n",
      " 17  GCS                364 non-null    float64\n",
      " 18  MAP                364 non-null    float64\n",
      " 19  Vasopressors       364 non-null    int64  \n",
      " 20  Creatinine         364 non-null    float64\n",
      " 21  SOFA score         364 non-null    float64\n",
      " 22  Outcome            364 non-null    int64  \n",
      " 23  Mechanical vent    364 non-null    int64  \n",
      " 24  Microorganism_1    364 non-null    int64  \n",
      " 25  Microorganism_2    364 non-null    int64  \n",
      " 26  Microorganism_3    364 non-null    int64  \n",
      " 27  Microorganism_4    364 non-null    int64  \n",
      " 28  Microorganism_5    364 non-null    int64  \n",
      " 29  Microorganism_6    364 non-null    int64  \n",
      " 30  Extent_1           364 non-null    int64  \n",
      " 31  Extent_2           364 non-null    int64  \n",
      " 32  Extent_3           364 non-null    int64  \n",
      " 33  Anatomical_1       364 non-null    int64  \n",
      " 34  Anatomical_2       364 non-null    int64  \n",
      " 35  Anatomical_3       364 non-null    int64  \n",
      " 36  Anatomical_4       364 non-null    int64  \n",
      " 37  Anatomical_5       364 non-null    int64  \n",
      " 38  Anatomical_6       364 non-null    int64  \n",
      " 39  Anatomical_7       364 non-null    int64  \n",
      " 40  Anatomical_8       364 non-null    int64  \n",
      " 41  UOP_1.0            364 non-null    int64  \n",
      " 42  UOP_2.0            364 non-null    int64  \n",
      " 43  UOP_3.0            364 non-null    int64  \n",
      "dtypes: float64(9), int64(35)\n",
      "memory usage: 125.3 KB\n",
      "None\n"
     ]
    }
   ],
   "source": [
    "print(df.info())"
   ]
  },
  {
   "cell_type": "markdown",
   "id": "59581bfb",
   "metadata": {},
   "source": []
  },
  {
   "cell_type": "code",
   "execution_count": 30,
   "id": "67a85c71",
   "metadata": {},
   "outputs": [
    {
     "data": {
      "text/plain": [
       "Age                  0\n",
       "Sex                  0\n",
       "Initial PCT value    0\n",
       "DM                   0\n",
       "HTN                  0\n",
       "COPD                 0\n",
       "CAD                  0\n",
       "CHF                  0\n",
       "CKD w/o dialysis     0\n",
       "CKD w dialysis       0\n",
       "afib                 0\n",
       "PE                   0\n",
       "cancer               0\n",
       "PaO2                 0\n",
       "FiO2                 0\n",
       "Platelets            0\n",
       "Bilirubin            0\n",
       "GCS                  0\n",
       "MAP                  0\n",
       "Vasopressors         0\n",
       "Creatinine           0\n",
       "SOFA score           0\n",
       "Outcome              0\n",
       "Mechanical vent      0\n",
       "Microorganism_1      0\n",
       "Microorganism_2      0\n",
       "Microorganism_3      0\n",
       "Microorganism_4      0\n",
       "Microorganism_5      0\n",
       "Microorganism_6      0\n",
       "Extent_1             0\n",
       "Extent_2             0\n",
       "Extent_3             0\n",
       "Anatomical_1         0\n",
       "Anatomical_2         0\n",
       "Anatomical_3         0\n",
       "Anatomical_4         0\n",
       "Anatomical_5         0\n",
       "Anatomical_6         0\n",
       "Anatomical_7         0\n",
       "Anatomical_8         0\n",
       "UOP_1.0              0\n",
       "UOP_2.0              0\n",
       "UOP_3.0              0\n",
       "dtype: int64"
      ]
     },
     "execution_count": 30,
     "metadata": {},
     "output_type": "execute_result"
    }
   ],
   "source": [
    "df.isnull().sum()\n"
   ]
  },
  {
   "cell_type": "code",
   "execution_count": 31,
   "id": "b875675d",
   "metadata": {},
   "outputs": [
    {
     "name": "stdout",
     "output_type": "stream",
     "text": [
      "              Age         Sex  Initial PCT value          DM         HTN  \\\n",
      "count  364.000000  364.000000         364.000000  364.000000  364.000000   \n",
      "mean    61.315934    0.519231          13.879093    0.370879    0.582418   \n",
      "std     12.633493    0.500318          31.574289    0.483705    0.493839   \n",
      "min     20.000000    0.000000           0.050000    0.000000    0.000000   \n",
      "25%     55.000000    0.000000           0.297500    0.000000    0.000000   \n",
      "50%     63.000000    1.000000           1.645000    0.000000    1.000000   \n",
      "75%     71.000000    1.000000          11.030000    1.000000    1.000000   \n",
      "max     86.000000    1.000000         252.500000    1.000000    1.000000   \n",
      "\n",
      "             COPD         CAD         CHF  CKD w/o dialysis   CKD w dialysis  \\\n",
      "count  364.000000  364.000000  364.000000         364.000000      364.000000   \n",
      "mean     0.299451    0.222527    0.197802           0.140110        0.043956   \n",
      "std      0.458648    0.416516    0.398890           0.347579        0.205280   \n",
      "min      0.000000    0.000000    0.000000           0.000000        0.000000   \n",
      "25%      0.000000    0.000000    0.000000           0.000000        0.000000   \n",
      "50%      0.000000    0.000000    0.000000           0.000000        0.000000   \n",
      "75%      1.000000    0.000000    0.000000           0.000000        0.000000   \n",
      "max      1.000000    1.000000    1.000000           1.000000        1.000000   \n",
      "\n",
      "       ...  Anatomical_2  Anatomical_3  Anatomical_4  Anatomical_5  \\\n",
      "count  ...    364.000000    364.000000    364.000000    364.000000   \n",
      "mean   ...      0.195055      0.120879      0.010989      0.008242   \n",
      "std    ...      0.396788      0.326435      0.104394      0.090534   \n",
      "min    ...      0.000000      0.000000      0.000000      0.000000   \n",
      "25%    ...      0.000000      0.000000      0.000000      0.000000   \n",
      "50%    ...      0.000000      0.000000      0.000000      0.000000   \n",
      "75%    ...      0.000000      0.000000      0.000000      0.000000   \n",
      "max    ...      1.000000      1.000000      1.000000      1.000000   \n",
      "\n",
      "       Anatomical_6  Anatomical_7  Anatomical_8     UOP_1.0     UOP_2.0  \\\n",
      "count    364.000000    364.000000    364.000000  364.000000  364.000000   \n",
      "mean       0.074176      0.087912      0.046703    0.906593    0.046703   \n",
      "std        0.262418      0.283557      0.211293    0.291402    0.211293   \n",
      "min        0.000000      0.000000      0.000000    0.000000    0.000000   \n",
      "25%        0.000000      0.000000      0.000000    1.000000    0.000000   \n",
      "50%        0.000000      0.000000      0.000000    1.000000    0.000000   \n",
      "75%        0.000000      0.000000      0.000000    1.000000    0.000000   \n",
      "max        1.000000      1.000000      1.000000    1.000000    1.000000   \n",
      "\n",
      "          UOP_3.0  \n",
      "count  364.000000  \n",
      "mean     0.046703  \n",
      "std      0.211293  \n",
      "min      0.000000  \n",
      "25%      0.000000  \n",
      "50%      0.000000  \n",
      "75%      0.000000  \n",
      "max      1.000000  \n",
      "\n",
      "[8 rows x 44 columns]\n"
     ]
    }
   ],
   "source": [
    "print(df.describe())"
   ]
  },
  {
   "cell_type": "markdown",
   "id": "8e2dfc78",
   "metadata": {},
   "source": [
    "### 2.6. Variable target: 'SOFA score' <a name=\"2.6\"> </a>"
   ]
  },
  {
   "cell_type": "markdown",
   "id": "930f05d4",
   "metadata": {},
   "source": [
    "La variable SOFA score es categórica, con un rango de valores desde 0 hasta 23. Voy a transformarla a variable int ya que aparece como tipo float."
   ]
  },
  {
   "cell_type": "code",
   "execution_count": 32,
   "id": "f0fb5c00",
   "metadata": {},
   "outputs": [
    {
     "data": {
      "text/plain": [
       "count    364.000000\n",
       "mean       5.060440\n",
       "std        3.495243\n",
       "min        0.000000\n",
       "25%        3.000000\n",
       "50%        4.000000\n",
       "75%        7.000000\n",
       "max       23.000000\n",
       "Name: SOFA score, dtype: float64"
      ]
     },
     "execution_count": 32,
     "metadata": {},
     "output_type": "execute_result"
    }
   ],
   "source": [
    "df['SOFA score'].describe()"
   ]
  },
  {
   "cell_type": "code",
   "execution_count": 33,
   "id": "4d4028bf",
   "metadata": {},
   "outputs": [
    {
     "name": "stdout",
     "output_type": "stream",
     "text": [
      "Valores únicos en Outcome después de la transformación: [ 3. 10.  4.  5.  2.  1.  6. 15.  8.  9.  0.  7. 13. 12. 14. 23. 17. 11.\n",
      " 16.]\n"
     ]
    }
   ],
   "source": [
    "print(\"Valores únicos en Outcome después de la transformación:\", df[\"SOFA score\"].unique())"
   ]
  },
  {
   "cell_type": "code",
   "execution_count": 34,
   "id": "b5b0ec78",
   "metadata": {},
   "outputs": [
    {
     "data": {
      "text/plain": [
       "<Axes: >"
      ]
     },
     "execution_count": 34,
     "metadata": {},
     "output_type": "execute_result"
    },
    {
     "data": {
      "image/png": "[encoded data removed]",
      "text/plain": [
       "<Figure size 640x480 with 1 Axes>"
      ]
     },
     "metadata": {},
     "output_type": "display_data"
    }
   ],
   "source": [
    "df['SOFA score'].hist(bins=20)"
   ]
  },
  {
   "cell_type": "code",
   "execution_count": 36,
   "id": "6b1b116c",
   "metadata": {},
   "outputs": [],
   "source": [
    "df['SOFA score'] = df['SOFA score'].astype(int)\n"
   ]
  },
  {
   "cell_type": "markdown",
   "id": "cc216427",
   "metadata": {},
   "source": [
    "## 3. Exportación del dataset preprocesado <a name=\"export\"> </a>"
   ]
  },
  {
   "cell_type": "code",
   "execution_count": 37,
   "id": "3cee7712",
   "metadata": {},
   "outputs": [],
   "source": [
    "df.to_csv('df_preprocesado.csv', index=False)"
   ]
  },
  {
   "cell_type": "code",
   "execution_count": 38,
   "id": "d2d3ac53",
   "metadata": {},
   "outputs": [
    {
     "name": "stdout",
     "output_type": "stream",
     "text": [
      "<class 'pandas.core.frame.DataFrame'>\n",
      "RangeIndex: 364 entries, 0 to 363\n",
      "Data columns (total 44 columns):\n",
      " #   Column             Non-Null Count  Dtype  \n",
      "---  ------             --------------  -----  \n",
      " 0   Age                364 non-null    int64  \n",
      " 1   Sex                364 non-null    int64  \n",
      " 2   Initial PCT value  364 non-null    float64\n",
      " 3   DM                 364 non-null    int64  \n",
      " 4   HTN                364 non-null    int64  \n",
      " 5   COPD               364 non-null    int64  \n",
      " 6   CAD                364 non-null    int64  \n",
      " 7   CHF                364 non-null    int64  \n",
      " 8   CKD w/o dialysis   364 non-null    int64  \n",
      " 9   CKD w dialysis     364 non-null    int64  \n",
      " 10  afib               364 non-null    int64  \n",
      " 11  PE                 364 non-null    int64  \n",
      " 12  cancer             364 non-null    int64  \n",
      " 13  PaO2               364 non-null    float64\n",
      " 14  FiO2               364 non-null    float64\n",
      " 15  Platelets          364 non-null    float64\n",
      " 16  Bilirubin          364 non-null    float64\n",
      " 17  GCS                364 non-null    float64\n",
      " 18  MAP                364 non-null    float64\n",
      " 19  Vasopressors       364 non-null    int64  \n",
      " 20  Creatinine         364 non-null    float64\n",
      " 21  SOFA score         364 non-null    int64  \n",
      " 22  Outcome            364 non-null    int64  \n",
      " 23  Mechanical vent    364 non-null    int64  \n",
      " 24  Microorganism_1    364 non-null    int64  \n",
      " 25  Microorganism_2    364 non-null    int64  \n",
      " 26  Microorganism_3    364 non-null    int64  \n",
      " 27  Microorganism_4    364 non-null    int64  \n",
      " 28  Microorganism_5    364 non-null    int64  \n",
      " 29  Microorganism_6    364 non-null    int64  \n",
      " 30  Extent_1           364 non-null    int64  \n",
      " 31  Extent_2           364 non-null    int64  \n",
      " 32  Extent_3           364 non-null    int64  \n",
      " 33  Anatomical_1       364 non-null    int64  \n",
      " 34  Anatomical_2       364 non-null    int64  \n",
      " 35  Anatomical_3       364 non-null    int64  \n",
      " 36  Anatomical_4       364 non-null    int64  \n",
      " 37  Anatomical_5       364 non-null    int64  \n",
      " 38  Anatomical_6       364 non-null    int64  \n",
      " 39  Anatomical_7       364 non-null    int64  \n",
      " 40  Anatomical_8       364 non-null    int64  \n",
      " 41  UOP_1.0            364 non-null    int64  \n",
      " 42  UOP_2.0            364 non-null    int64  \n",
      " 43  UOP_3.0            364 non-null    int64  \n",
      "dtypes: float64(8), int64(36)\n",
      "memory usage: 125.3 KB\n"
     ]
    }
   ],
   "source": [
    "df_preprocesado = pd.read_csv('df_preprocesado.csv')\n",
    "df_preprocesado.info()"
   ]
  },
  {
   "cell_type": "code",
   "execution_count": null,
   "id": "e2dd4e34",
   "metadata": {},
   "outputs": [],
   "source": []
  }
 ],
 "metadata": {
  "kernelspec": {
   "display_name": "myenv",
   "language": "python",
   "name": "python3"
  },
  "language_info": {
   "codemirror_mode": {
    "name": "ipython",
    "version": 3
   },
   "file_extension": ".py",
   "mimetype": "text/x-python",
   "name": "python",
   "nbconvert_exporter": "python",
   "pygments_lexer": "ipython3",
   "version": "3.13.1"
  }
 },
 "nbformat": 4,
 "nbformat_minor": 5
}
